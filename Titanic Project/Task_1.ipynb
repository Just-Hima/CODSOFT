{
 "cells": [
  {
   "cell_type": "markdown",
   "metadata": {},
   "source": [
    "# Importing Libraries"
   ]
  },
  {
   "cell_type": "code",
   "execution_count": null,
   "metadata": {},
   "outputs": [],
   "source": [
    "import numpy as np\n",
    "import pandas as pd\n",
    "import seaborn as sns\n",
    "import xgboost as xgb\n",
    "import matplotlib.pyplot as plt\n",
    "from sklearn.preprocessing import StandardScaler\n",
    "from sklearn.linear_model import LogisticRegression\n",
    "from sklearn.ensemble import RandomForestClassifier\n",
    "from sklearn.model_selection import train_test_split\n",
    "from sklearn.metrics import accuracy_score, precision_score, recall_score, f1_score, roc_auc_score, confusion_matrix"
   ]
  },
  {
   "cell_type": "markdown",
   "metadata": {},
   "source": [
    "# Data Loading & Processing"
   ]
  },
  {
   "cell_type": "markdown",
   "metadata": {},
   "source": [
    "Files Reading"
   ]
  },
  {
   "cell_type": "code",
   "execution_count": null,
   "metadata": {},
   "outputs": [],
   "source": [
    "train_df = pd.read_csv('train.csv')\n",
    "test_df = pd.read_csv('test.csv')\n",
    "\n",
    "# Added 'train_test' column to be able to distinguish between training and test dataframe\n",
    "train_df['train_test'] = 1\n",
    "test_df['train_test'] = 0\n",
    "\n",
    "# Added 'Survived' column (To be predected)\n",
    "test_df['Survived'] = np.NaN\n",
    "\n",
    "# Join the training and test sets\n",
    "all_data = pd.concat([train_df, test_df])"
   ]
  },
  {
   "cell_type": "markdown",
   "metadata": {},
   "source": [
    "Training Data Analyzing"
   ]
  },
  {
   "cell_type": "code",
   "execution_count": null,
   "metadata": {},
   "outputs": [],
   "source": [
    "# Size\n",
    "train_df.shape"
   ]
  },
  {
   "cell_type": "code",
   "execution_count": null,
   "metadata": {},
   "outputs": [],
   "source": [
    "# info\n",
    "train_df.describe()"
   ]
  },
  {
   "cell_type": "code",
   "execution_count": null,
   "metadata": {},
   "outputs": [],
   "source": [
    "# Data types\n",
    "print(\"Data types:\\n\", train_df.dtypes)"
   ]
  },
  {
   "cell_type": "code",
   "execution_count": null,
   "metadata": {},
   "outputs": [],
   "source": [
    "# Missing values checking\n",
    "print(\"Missing values:\\n\", train_df.isnull().sum())"
   ]
  },
  {
   "cell_type": "code",
   "execution_count": null,
   "metadata": {},
   "outputs": [],
   "source": [
    "# separate columns\n",
    "train_df.describe().columns"
   ]
  },
  {
   "cell_type": "markdown",
   "metadata": {},
   "source": [
    "Separating Quantitative  and Qualitative values"
   ]
  },
  {
   "cell_type": "code",
   "execution_count": null,
   "metadata": {},
   "outputs": [],
   "source": [
    "Qn_val = train_df[['Age','SibSp','Parch','Fare']]\n",
    "\n",
    "Ql_val = train_df[['Survived','Pclass','Sex','Ticket','Cabin','Embarked']]"
   ]
  },
  {
   "cell_type": "markdown",
   "metadata": {},
   "source": [
    "# Handling Missing Data"
   ]
  },
  {
   "cell_type": "code",
   "execution_count": null,
   "metadata": {},
   "outputs": [],
   "source": [
    "# Imputing Qn_val and Ql_val\n",
    "numerical_features = train_df.select_dtypes(include=[np.number]).columns\n",
    "for feature in numerical_features:\n",
    "    train_df[feature].fillna(train_df[feature].mean(), inplace=True)\n",
    "\n",
    "categorical_features = train_df.select_dtypes(include=[object]).columns\n",
    "for feature in categorical_features:\n",
    "    train_df[feature].fillna(train_df[feature].mode()[0], inplace=True)\n",
    "\n",
    "# Verifing no missing data\n",
    "print(\"Missing values after handling:\\n\", train_df.isnull().sum())"
   ]
  },
  {
   "cell_type": "markdown",
   "metadata": {},
   "source": [
    "# EDA"
   ]
  },
  {
   "cell_type": "markdown",
   "metadata": {},
   "source": [
    "Numerical data distrutions"
   ]
  },
  {
   "cell_type": "code",
   "execution_count": null,
   "metadata": {},
   "outputs": [],
   "source": [
    "for i in Qn_val.columns:\n",
    "    plt.hist(Qn_val[i])\n",
    "    plt.title(i)\n",
    "    plt.show()"
   ]
  },
  {
   "cell_type": "markdown",
   "metadata": {},
   "source": [
    "Data Correlation"
   ]
  },
  {
   "cell_type": "code",
   "execution_count": null,
   "metadata": {},
   "outputs": [],
   "source": [
    "print(Qn_val.corr())\n",
    "sns.heatmap(Qn_val.corr(), cmap='YlGn')"
   ]
  },
  {
   "cell_type": "markdown",
   "metadata": {},
   "source": [
    "Survival Rate Analysis"
   ]
  },
  {
   "cell_type": "code",
   "execution_count": null,
   "metadata": {},
   "outputs": [],
   "source": [
    "# compare survival rate across Age, SibSp, Parch, and Fare \n",
    "pd.pivot_table(train_df, index = 'Survived', values = ['Age','SibSp','Parch','Fare'])\n",
    "\n",
    "# preparing some pivot tables for Survived vs Pclass, Sex, and Embarked considering only survivors\n",
    "survived_pclass = pd.pivot_table(train_df[train_df['Survived'] == 1], index='Pclass', aggfunc='size')\n",
    "survived_sex = pd.pivot_table(train_df[train_df['Survived'] == 1], index='Sex', aggfunc='size')\n",
    "survived_embarked = pd.pivot_table(train_df[train_df['Survived'] == 1], index='Embarked', aggfunc='size')"
   ]
  },
  {
   "cell_type": "code",
   "execution_count": null,
   "metadata": {},
   "outputs": [],
   "source": [
    "# Plotting bar charts for each categorical variable\n",
    "plt.figure(figsize=(12, 5))\n",
    "\n",
    "# Plotting bar chart for survival count comparison between passenger classes\n",
    "plt.subplot(1, 3, 1)\n",
    "survived_pclass.plot(kind='bar', color='purple')\n",
    "plt.title('Survival Count by Passenger Class')\n",
    "plt.xlabel('Passenger Class')\n",
    "plt.ylabel('Count')\n",
    "\n",
    "# Plotting bar chart for survival count comparison between genders\n",
    "plt.subplot(1, 3, 2)\n",
    "survived_sex.plot(kind='bar', color='blue')\n",
    "plt.title('Survival Count by Gender')\n",
    "plt.xlabel('Gender')\n",
    "plt.ylabel('Count')\n",
    "\n",
    "# Plotting bar chart for survival count comparison between embarkation ports\n",
    "plt.subplot(1, 3, 3)\n",
    "survived_embarked.plot(kind='bar', color='green')\n",
    "plt.title('Survival Count by Embarked')\n",
    "plt.xlabel('Embarked')\n",
    "plt.ylabel('Count')\n",
    "\n",
    "plt.tight_layout()\n",
    "plt.show()"
   ]
  },
  {
   "cell_type": "markdown",
   "metadata": {},
   "source": [
    "# Feature Engineering"
   ]
  },
  {
   "cell_type": "code",
   "execution_count": null,
   "metadata": {},
   "outputs": [],
   "source": [
    "# Family Size Calculation\n",
    "train_df['FamilySize'] = train_df['SibSp'] + train_df['Parch'] + 1\n",
    "all_data['FamilySize'] = all_data['SibSp'] + all_data['Parch'] + 1\n",
    "\n",
    "# Is Alone Calculation\n",
    "train_df['is_alone'] = np.where(train_df['FamilySize'] == 1, True, False)\n",
    "all_data['is_alone'] = np.where(all_data['FamilySize'] == 1, True, False)\n",
    "\n",
    "# Categorizing Family Size\n",
    "def categorize_family_size(size):\n",
    "    if size == 1:\n",
    "        return 'Alone'\n",
    "    elif size <= 4:\n",
    "        return 'Small'\n",
    "    else:\n",
    "        return 'Large'\n",
    "\n",
    "train_df['family_size_category'] = train_df['FamilySize'].apply(categorize_family_size)\n",
    "all_data['family_size_category'] = all_data['FamilySize'].apply(categorize_family_size)\n",
    "\n",
    "# Impute nulls\n",
    "all_data.Age = all_data.Age.fillna(train_df.Age.median())\n",
    "all_data.Fare = all_data.Fare.fillna(train_df.Fare.median())\n",
    "\n",
    "# Drop null 'embarked' rows\n",
    "all_data.dropna(subset=['Embarked'], inplace=True)\n",
    "\n",
    "# Convert fare to category for pd.get_dummies()\n",
    "all_data.Pclass = all_data.Pclass.astype(str)\n",
    "\n",
    "# Create dummy variables from categories\n",
    "all_dummies = pd.get_dummies(all_data[['Pclass', 'Sex', 'Age', 'SibSp', 'Parch', 'Embarked', 'is_alone', 'family_size_category', 'train_test']])\n",
    "\n",
    "# Split into train and test sets to prepare the model\n",
    "X_train = all_dummies[all_dummies.train_test == 1].drop(['train_test'], axis=1)\n",
    "X_test = all_dummies[all_dummies.train_test == 0].drop(['train_test'], axis=1)\n",
    "\n",
    "# Target variable\n",
    "y_train = all_data[all_data.train_test == 1].Survived"
   ]
  },
  {
   "cell_type": "markdown",
   "metadata": {},
   "source": [
    "Data Scaling"
   ]
  },
  {
   "cell_type": "code",
   "execution_count": null,
   "metadata": {},
   "outputs": [],
   "source": [
    "scale = StandardScaler()\n",
    "all_dummies_scaled = all_dummies.copy()\n",
    "all_dummies_scaled[['Age','SibSp','Parch']]= scale.fit_transform(all_dummies_scaled[['Age','SibSp','Parch',]])\n",
    "all_dummies_scaled\n",
    "\n",
    "X_train_scaled = all_dummies_scaled[all_dummies_scaled.train_test == 1].drop(['train_test'], axis =1)\n",
    "X_test_scaled = all_dummies_scaled[all_dummies_scaled.train_test == 0].drop(['train_test'], axis =1)\n",
    "\n",
    "y_train = all_data[all_data.train_test==1].Survived"
   ]
  },
  {
   "cell_type": "markdown",
   "metadata": {},
   "source": [
    "# Model Building"
   ]
  },
  {
   "cell_type": "markdown",
   "metadata": {},
   "source": [
    "Model Body"
   ]
  },
  {
   "cell_type": "code",
   "execution_count": null,
   "metadata": {},
   "outputs": [],
   "source": [
    "# Spliting data\n",
    "X_train_split, X_val_split, y_train_split, y_val_split = train_test_split(X_train, y_train, test_size=0.2, random_state=50)\n",
    "\n",
    "\n",
    "# Evaluation function\n",
    "def evaluate_model(y_test, y_pred, model_name):\n",
    "    accuracy = accuracy_score(y_test, y_pred)\n",
    "    precision = precision_score(y_test, y_pred)\n",
    "    recall = recall_score(y_test, y_pred)\n",
    "    f1 = f1_score(y_test, y_pred)\n",
    "    roc_auc = roc_auc_score(y_test, y_pred)\n",
    "    \n",
    "    print(f\"Model: {model_name}\")\n",
    "    print(f\"Accuracy: {accuracy:.4f}\")\n",
    "    print(f\"Precision: {precision:.4f}\")\n",
    "    print(f\"Recall: {recall:.4f}\")\n",
    "    print(f\"F1 Score: {f1:.4f}\")\n",
    "    print(f\"ROC AUC: {roc_auc:.4f}\")\n",
    "    \n",
    "    cm = confusion_matrix(y_test, y_pred)\n",
    "    sns.heatmap(cm, annot=True, fmt='d', cmap='Blues')\n",
    "    plt.title('Confusion Matrix')\n",
    "    plt.xlabel('Predicted')\n",
    "    plt.ylabel('Actual')\n",
    "    plt.show()\n"
   ]
  },
  {
   "cell_type": "markdown",
   "metadata": {},
   "source": [
    "# Evaluation"
   ]
  },
  {
   "cell_type": "markdown",
   "metadata": {},
   "source": [
    "Logistic Regression"
   ]
  },
  {
   "cell_type": "code",
   "execution_count": null,
   "metadata": {},
   "outputs": [],
   "source": [
    "logreg = LogisticRegression()\n",
    "logreg.fit(X_train_split, y_train_split)\n",
    "y_pred_logreg = logreg.predict(X_val_split)\n",
    "evaluate_model(y_val_split, y_pred_logreg, 'Logistic Regression')"
   ]
  },
  {
   "cell_type": "markdown",
   "metadata": {},
   "source": [
    "Random Forest"
   ]
  },
  {
   "cell_type": "code",
   "execution_count": null,
   "metadata": {},
   "outputs": [],
   "source": [
    "rf = RandomForestClassifier()\n",
    "rf.fit(X_train_split, y_train_split)\n",
    "y_pred_rf = rf.predict(X_val_split)\n",
    "evaluate_model(y_val_split, y_pred_rf, \"Random Forest\")"
   ]
  },
  {
   "cell_type": "markdown",
   "metadata": {},
   "source": [
    "XGBoost"
   ]
  },
  {
   "cell_type": "code",
   "execution_count": null,
   "metadata": {},
   "outputs": [],
   "source": [
    "xgboost = xgb.XGBClassifier()\n",
    "xgboost.fit(X_train_split, y_train_split)\n",
    "y_pred_xgboost = xgboost.predict(X_val_split)\n",
    "evaluate_model(y_val_split, y_pred_xgboost, \"XGBoost\")"
   ]
  },
  {
   "cell_type": "markdown",
   "metadata": {},
   "source": [
    "Result comparison"
   ]
  },
  {
   "cell_type": "code",
   "execution_count": null,
   "metadata": {},
   "outputs": [],
   "source": [
    "accuracies = []\n",
    "model_names = []\n",
    "\n",
    "# Logistic Regression\n",
    "logreg_accuracy = accuracy_score(y_val_split, y_pred_logreg)\n",
    "accuracies.append(logreg_accuracy*100)\n",
    "model_names.append(\"Logistic Regression\")\n",
    "\n",
    "# Random Forest\n",
    "rf_accuracy = accuracy_score(y_val_split, y_pred_rf)\n",
    "accuracies.append(rf_accuracy*100)\n",
    "model_names.append(\"Random Forest\")\n",
    "\n",
    "# XGBoost\n",
    "xgboost_accuracy = accuracy_score(y_val_split, y_pred_xgboost)\n",
    "accuracies.append(xgboost_accuracy*100)\n",
    "model_names.append(\"XGBoost\")\n",
    "\n",
    "# Create bar chart\n",
    "plt.figure(figsize=(10, 6))\n",
    "sns.barplot(x=model_names, y=accuracies, palette='viridis')\n",
    "plt.title('Accuracy of Each Algorithm @ Random State = 50')\n",
    "plt.xlabel('Algorithm')\n",
    "plt.ylabel('Accuracy %')\n",
    "plt.ylim(60, 100)\n",
    "plt.show()\n"
   ]
  }
 ],
 "metadata": {
  "kernelspec": {
   "display_name": "Python 3",
   "language": "python",
   "name": "python3"
  },
  "language_info": {
   "codemirror_mode": {
    "name": "ipython",
    "version": 3
   },
   "file_extension": ".py",
   "mimetype": "text/x-python",
   "name": "python",
   "nbconvert_exporter": "python",
   "pygments_lexer": "ipython3",
   "version": "3.11.9"
  }
 },
 "nbformat": 4,
 "nbformat_minor": 2
}
